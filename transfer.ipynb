{
  "nbformat": 4,
  "nbformat_minor": 0,
  "metadata": {
    "colab": {
      "name": "transfer.ipynb",
      "provenance": [],
      "private_outputs": true,
      "mount_file_id": "1jLrVy7H_rIi2WfzXNldCibG_sWd5ZgMN",
      "authorship_tag": "ABX9TyPaq379x+z8XkV7an8CiuvD",
      "include_colab_link": true
    },
    "kernelspec": {
      "name": "python3",
      "display_name": "Python 3"
    },
    "accelerator": "GPU"
  },
  "cells": [
    {
      "cell_type": "markdown",
      "metadata": {
        "id": "view-in-github",
        "colab_type": "text"
      },
      "source": [
        "<a href=\"https://colab.research.google.com/github/e18679/ML0930/blob/master/transfer.ipynb\" target=\"_parent\"><img src=\"https://colab.research.google.com/assets/colab-badge.svg\" alt=\"Open In Colab\"/></a>"
      ]
    },
    {
      "cell_type": "code",
      "metadata": {
        "id": "Y60UM22y71Zt"
      },
      "source": [
        "import zipfile\n",
        "f = zipfile.ZipFile(\"drive/My Drive/train.zip\")\n",
        "f.extractall()"
      ],
      "execution_count": null,
      "outputs": []
    },
    {
      "cell_type": "code",
      "metadata": {
        "id": "POJR_25u-XYY"
      },
      "source": [
        "import pandas as pd\n",
        "import glob\n",
        "dogs = glob.glob(\"train/dog.*\")\n",
        "cats = glob.glob(\"train/cat.*\")\n",
        "df = pd.DataFrame({\n",
        "    \"path\":dogs + cats,\n",
        "    \"target\":[0] * len(dogs) + [1] * len(cats)\n",
        "})\n",
        "df"
      ],
      "execution_count": null,
      "outputs": []
    },
    {
      "cell_type": "code",
      "metadata": {
        "id": "taC1_XAaDMSn"
      },
      "source": [
        "import random\n",
        "from tensorflow.keras.preprocessing.image import load_img\n",
        "idx = random.randint(0,24999)\n",
        "load_img(df[\"path\"][idx] ,target_size=(224,224))"
      ],
      "execution_count": null,
      "outputs": []
    },
    {
      "cell_type": "code",
      "metadata": {
        "id": "zM3wiCnoDw45"
      },
      "source": [
        "import numpy as np\n",
        "from sklearn.model_selection import train_test_split\n",
        "x, y = np.array(df[\"path\"]), np.array(df[\"target\"])\n",
        "x_train, x_test, y_train, y_test = train_test_split(x, y, test_size=0.1)\n",
        "print(x_train.shape)\n",
        "print(x_test.shape)\n",
        "print(y_train.shape)\n",
        "print(y_test.shape)"
      ],
      "execution_count": null,
      "outputs": []
    },
    {
      "cell_type": "code",
      "metadata": {
        "id": "02QPjX_QFlAa"
      },
      "source": [
        "from tensorflow.keras.applications import vgg16\n",
        "cnn=vgg16.VGG16(include_top=False,input_shape=(224,224,3))\n",
        "cnn.summary()"
      ],
      "execution_count": null,
      "outputs": []
    },
    {
      "cell_type": "code",
      "metadata": {
        "id": "vg9G_OYIGFYg"
      },
      "source": [
        ""
      ],
      "execution_count": null,
      "outputs": []
    }
  ]
}