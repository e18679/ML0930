{
  "nbformat": 4,
  "nbformat_minor": 0,
  "metadata": {
    "colab": {
      "name": "tools.ipynb",
      "provenance": [],
      "collapsed_sections": [],
      "authorship_tag": "ABX9TyP7jAb0mPpiAIS17Ca73SRp",
      "include_colab_link": true
    },
    "kernelspec": {
      "name": "python3",
      "display_name": "Python 3"
    }
  },
  "cells": [
    {
      "cell_type": "markdown",
      "metadata": {
        "id": "view-in-github",
        "colab_type": "text"
      },
      "source": [
        "<a href=\"https://colab.research.google.com/github/e18679/ML0930/blob/master/tools.ipynb\" target=\"_parent\"><img src=\"https://colab.research.google.com/assets/colab-badge.svg\" alt=\"Open In Colab\"/></a>"
      ]
    },
    {
      "cell_type": "code",
      "metadata": {
        "id": "D9PjpdRSqNDj",
        "outputId": "40bf75f2-a3bf-4022-d656-7537ddaf23a0",
        "colab": {
          "base_uri": "https://localhost:8080/",
          "height": 207
        }
      },
      "source": [
        "!pip install opencc-python-reimplemented"
      ],
      "execution_count": 3,
      "outputs": [
        {
          "output_type": "stream",
          "text": [
            "Collecting opencc-python-reimplemented\n",
            "\u001b[?25l  Downloading https://files.pythonhosted.org/packages/04/aa/02c5ffc87e2bf1da1f476d35aa4de69cad2cfc3140e37114755c454d1231/opencc-python-reimplemented-0.1.6.tar.gz (484kB)\n",
            "\u001b[K     |████████████████████████████████| 491kB 2.7MB/s \n",
            "\u001b[?25hBuilding wheels for collected packages: opencc-python-reimplemented\n",
            "  Building wheel for opencc-python-reimplemented (setup.py) ... \u001b[?25l\u001b[?25hdone\n",
            "  Created wheel for opencc-python-reimplemented: filename=opencc_python_reimplemented-0.1.6-py2.py3-none-any.whl size=486137 sha256=0a8d875462d43881a8a0cea5acaea9f4655b05840d4a7268c961f3dbec81169a\n",
            "  Stored in directory: /root/.cache/pip/wheels/54/8a/0f/405db0ba3f02d9af8211422d3ae94c47b3296256f168ac1e68\n",
            "Successfully built opencc-python-reimplemented\n",
            "Installing collected packages: opencc-python-reimplemented\n",
            "Successfully installed opencc-python-reimplemented-0.1.6\n"
          ],
          "name": "stdout"
        }
      ]
    },
    {
      "cell_type": "code",
      "metadata": {
        "id": "yJPOfr0PqlFI",
        "outputId": "ce7b3cae-1cdb-4079-884d-c099121c5575",
        "colab": {
          "base_uri": "https://localhost:8080/",
          "height": 69
        }
      },
      "source": [
        "from opencc import OpenCC\n",
        "with open(\"a.txt\", \"r\", encoding=\"utf-8\") as f:\n",
        "  sim=f.read()\n",
        "cc = OpenCC('s2twp')\n",
        "converted = cc.convert(sim)\n",
        "converted"
      ],
      "execution_count": 6,
      "outputs": [
        {
          "output_type": "execute_result",
          "data": {
            "application/vnd.google.colaboratory.intrinsic+json": {
              "type": "string"
            },
            "text/plain": [
              "'繁體中文。bai\\n為什麼會覺得煩呢？也許du讓我們學寫繁體中文的話，我們可zhi能會煩。\\n主要看所處的環境。dao\\n如果樓主從一出生就學的是繁體中文的話，現在讓你學寫簡體中文，你也會煩的。如果一個英語為母語的國家，讓他們的人民學中文，不管是繁體還是簡體都會煩。\\n要你用你的純母語來書寫，應該是最順手的吧ㄍ'"
            ]
          },
          "metadata": {
            "tags": []
          },
          "execution_count": 6
        }
      ]
    },
    {
      "cell_type": "code",
      "metadata": {
        "id": "cTu9bI9rsrmi",
        "outputId": "859ed2ac-a6a5-4c40-dbd1-b79457a5a0b4",
        "colab": {
          "base_uri": "https://localhost:8080/",
          "height": 429
        }
      },
      "source": [
        "import os\n",
        "import jieba\n",
        "from urllib.request import urlretrieve\n",
        "if not os.path.exists(\"dict.txt.big\"):\n",
        "  url=\"https://github.com/fxsjy/jieba/raw/master/extra_dict/dict.txt.big\"\n",
        "  urlretrieve(url,\"dict.txt.big\")\n",
        "jieba.set_dictionary(\"dict.txt.big\")\n",
        "jieba.load_userdict(\"dict.politics\")\n",
        "\n",
        "with open(\"news.txt\", \"r\", encoding=\"utf-8\") as f:\n",
        "  news=f.read()\n",
        "\" \".join(jieba.cut(news))"
      ],
      "execution_count": 7,
      "outputs": [
        {
          "output_type": "stream",
          "text": [
            "Building prefix dict from /content/dict.txt.big ...\n",
            "Dumping model to file cache /tmp/jieba.u501edca284da514cb68b53a20324f4e3.cache\n",
            "Loading model cost 1.726 seconds.\n",
            "Prefix dict has been built successfully.\n"
          ],
          "name": "stderr"
        },
        {
          "output_type": "execute_result",
          "data": {
            "application/vnd.google.colaboratory.intrinsic+json": {
              "type": "string"
            },
            "text/plain": [
              "'夭壽 喔 ！ 這是 做秀 抑是 瘋 了 ？ 美國 總統 川普 （ Donald   Trump ） 確診 武漢肺炎 ， 竟然 短暫 搭車 離開 沃爾特 里德 國家 軍事 醫療 中心 （ Walter   Reed   National   Military   Medical   Center ） ， 繞街 在車 內向 支持者 致意 ， 還稱 是 「 小 驚喜 」 ， 嚇壞 美國 一票 醫學專家 。 GWU 急診 醫學 災難 醫學 負責人 菲利普斯 （ Dr .   James   P .   Phillips ） 痛罵 川普 瘋 了 ， 害同車 的 人 要 隔離 14 天 ， 甚至 面對 感染 、 死亡威脅 。 \\n \\n 川普 堪稱 是 感染 武漢肺炎 後 「 最 不安份 」 的 國家 領袖 了 ， 他 週日 在 推特 上傳 影片 ， 稱要給 大家 「 一個 驚喜 」 ， 沒想到 竟然 是 他 搭乘 防護 車輛 離開 醫院 ， 繞著 醫療 中心 附近 的 街道 「 現身 」 ， 接受 等 在 醫院 外 支持者 的 歡呼 。 \\n \\n \\n 美國有線電視新聞網 CNN 批評 ， 川普 在 SUV 車內 仍 戴 著 防護 口罩 ， 但 他 似乎 沒有 意識 到 危險性 ， 顯示 出 這位 總統 的 可議 行為 ， 他 似乎 無法 理解 高度 傳染性 和 致命性 疾病 的 嚴重性 ， 不 知道 這種 行為 會 危害 員工 ， 以及 可能 引發 的 後續 效應 。 \\n \\n 川普 在 自己 po 的 影片 中 提到 ， 自從 確診 武漢 肺 後 ， 他 學到 很多 ， 還說 他 會 讓 人們 知道 「 這是 一件 非常 有趣 的 事 」 。 醫學專家 菲利普斯 在 推特 痛罵 「 這根 本是 精神 錯亂 」 （ This   is   insanity ） ！ \\n \\n 菲利普斯 批 川普 是 在 做秀 ， 指 與 川普 同車 的 每個 人 都 必須 被 隔離 14 天 ， 他們 可能 會 生病 ， 甚至 可能 會 死 ， 在 這個 政治 劇院 裡 ， 川普 下令 將 這些 人 的 生命 曝露 在 威脅 中 。 該 推文 引來 18 萬 網友 關注 ， 不少 網友 跟 著 罵 川普 「 蠢貨 」 、 「 災難 」 ， 竟然 只 戴 著 普通 醫用 黑色 口罩 ， 而 不是 N95 口罩 ！ 還有 人 認為 這是 「 大 騙局 」 ， 這場 災難 「 管理 失敗 」 。 \\n \\n 白宮 記者 協會 也 發出 聲明 ， 批評 川普 在 沒有 全套 保護 裝備 下離院 的 行為 ， 「 荒謬絕倫 」 ， 記者 們 沒有 接到 任何 通知 ， 相當 不滿 ， 他們 堅稱 美國 民眾 比 任何 時候 更 需要 關於 總統 健康 真實情況 的 報導 。'"
            ]
          },
          "metadata": {
            "tags": []
          },
          "execution_count": 7
        }
      ]
    },
    {
      "cell_type": "code",
      "metadata": {
        "id": "_SHWL4wHw1H8",
        "outputId": "fea3666e-dabc-4071-e573-aae717fddc05",
        "colab": {
          "base_uri": "https://localhost:8080/",
          "height": 357
        }
      },
      "source": [
        "import jieba.analyse\n",
        "jieba.analyse.extract_tags(news)"
      ],
      "execution_count": 8,
      "outputs": [
        {
          "output_type": "execute_result",
          "data": {
            "text/plain": [
              "['川普',\n",
              " '這是',\n",
              " '美國',\n",
              " '總統',\n",
              " '災難',\n",
              " '沒有',\n",
              " '行為',\n",
              " '菲利普斯',\n",
              " '口罩',\n",
              " '確診',\n",
              " '武漢肺炎',\n",
              " '離開',\n",
              " '國家',\n",
              " '醫療',\n",
              " '驚喜',\n",
              " '醫學專家',\n",
              " '醫學',\n",
              " '痛罵',\n",
              " '隔離',\n",
              " '14']"
            ]
          },
          "metadata": {
            "tags": []
          },
          "execution_count": 8
        }
      ]
    },
    {
      "cell_type": "code",
      "metadata": {
        "id": "BLXlH1dqRvq4"
      },
      "source": [
        ""
      ],
      "execution_count": null,
      "outputs": []
    }
  ]
}